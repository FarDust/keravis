{
 "cells": [
  {
   "cell_type": "code",
   "execution_count": null,
   "metadata": {
    "colab": {
     "base_uri": "https://localhost:8080/",
     "height": 85
    },
    "colab_type": "code",
    "id": "TLiU5VhCY_kj",
    "outputId": "38dd5ae8-9b93-4969-d240-700c150fb6c0"
   },
   "outputs": [],
   "source": [
    "!git clone https://github.com/PUC-Infovis/proyecto-keravis.git"
   ]
  },
  {
   "cell_type": "code",
   "execution_count": null,
   "metadata": {
    "colab": {
     "base_uri": "https://localhost:8080/",
     "height": 34
    },
    "colab_type": "code",
    "id": "WAIHWuAAZFZE",
    "outputId": "e60d3442-733c-4925-bce8-3b8df328f02e"
   },
   "outputs": [],
   "source": [
    "%cd reinforcement-curve-fever/"
   ]
  },
  {
   "cell_type": "code",
   "execution_count": null,
   "metadata": {
    "colab": {
     "base_uri": "https://localhost:8080/",
     "height": 34
    },
    "colab_type": "code",
    "id": "sWvw_Qx1ZOwW",
    "outputId": "15c1f785-0e28-4122-acd5-b992bbaf103d"
   },
   "outputs": [],
   "source": [
    "!pip install pygame"
   ]
  },
  {
   "cell_type": "code",
   "execution_count": null,
   "metadata": {
    "colab": {
     "base_uri": "https://localhost:8080/",
     "height": 51
    },
    "colab_type": "code",
    "id": "5qtkwgMGZRbm",
    "outputId": "59636c28-f920-49c5-9805-e74879480d10"
   },
   "outputs": [],
   "source": [
    "import train"
   ]
  },
  {
   "cell_type": "code",
   "execution_count": null,
   "metadata": {
    "colab": {
     "base_uri": "https://localhost:8080/",
     "height": 34
    },
    "colab_type": "code",
    "id": "_K9eT5khaIKm",
    "outputId": "cc58c532-c4eb-4d8f-d117-506daee9eb03"
   },
   "outputs": [],
   "source": [
    "import os\n",
    "os.environ['SDL_VIDEODRIVER']='dummy'\n",
    "import pygame\n",
    "pygame.display.set_mode((640,480))"
   ]
  },
  {
   "cell_type": "code",
   "execution_count": null,
   "metadata": {
    "colab": {
     "base_uri": "https://localhost:8080/",
     "height": 1000
    },
    "colab_type": "code",
    "id": "O1zx8AfSZm2o",
    "outputId": "efd83719-0c54-44c5-d91b-ffdc74efc199"
   },
   "outputs": [],
   "source": [
    "train.train()"
   ]
  },
  {
   "cell_type": "code",
   "execution_count": null,
   "metadata": {
    "colab": {},
    "colab_type": "code",
    "id": "jcVJwKJGc-p1"
   },
   "outputs": [],
   "source": []
  }
 ],
 "metadata": {
  "colab": {
   "name": "curve_fever.ipynb",
   "provenance": []
  },
  "kernelspec": {
   "display_name": "Python 3",
   "name": "python3"
  }
 },
 "nbformat": 4,
 "nbformat_minor": 0
}
